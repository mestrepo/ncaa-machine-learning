{
 "cells": [
  {
   "cell_type": "code",
   "execution_count": 1,
   "metadata": {},
   "outputs": [],
   "source": [
    "import tensorflow as tf\n",
    "import pandas as pd\n",
    "import numpy as np"
   ]
  },
  {
   "cell_type": "markdown",
   "metadata": {},
   "source": [
    "Read and inspect code"
   ]
  },
  {
   "cell_type": "code",
   "execution_count": 2,
   "metadata": {},
   "outputs": [
    {
     "data": {
      "text/html": [
       "<div>\n",
       "<style scoped>\n",
       "    .dataframe tbody tr th:only-of-type {\n",
       "        vertical-align: middle;\n",
       "    }\n",
       "\n",
       "    .dataframe tbody tr th {\n",
       "        vertical-align: top;\n",
       "    }\n",
       "\n",
       "    .dataframe thead th {\n",
       "        text-align: right;\n",
       "    }\n",
       "</style>\n",
       "<table border=\"1\" class=\"dataframe\">\n",
       "  <thead>\n",
       "    <tr style=\"text-align: right;\">\n",
       "      <th></th>\n",
       "      <th>season</th>\n",
       "      <th>label</th>\n",
       "      <th>seed</th>\n",
       "      <th>school_ncaa</th>\n",
       "      <th>opp_seed</th>\n",
       "      <th>opp_ncaa</th>\n",
       "    </tr>\n",
       "  </thead>\n",
       "  <tbody>\n",
       "    <tr>\n",
       "      <th>0</th>\n",
       "      <td>1994</td>\n",
       "      <td>0</td>\n",
       "      <td>5</td>\n",
       "      <td>Indiana</td>\n",
       "      <td>9</td>\n",
       "      <td>Boston College</td>\n",
       "    </tr>\n",
       "    <tr>\n",
       "      <th>1</th>\n",
       "      <td>2007</td>\n",
       "      <td>0</td>\n",
       "      <td>10</td>\n",
       "      <td>Texas Tech</td>\n",
       "      <td>7</td>\n",
       "      <td>Boston College</td>\n",
       "    </tr>\n",
       "    <tr>\n",
       "      <th>2</th>\n",
       "      <td>2001</td>\n",
       "      <td>0</td>\n",
       "      <td>14</td>\n",
       "      <td>Southern Utah</td>\n",
       "      <td>3</td>\n",
       "      <td>Boston College</td>\n",
       "    </tr>\n",
       "    <tr>\n",
       "      <th>3</th>\n",
       "      <td>1994</td>\n",
       "      <td>0</td>\n",
       "      <td>8</td>\n",
       "      <td>Washington St.</td>\n",
       "      <td>9</td>\n",
       "      <td>Boston College</td>\n",
       "    </tr>\n",
       "    <tr>\n",
       "      <th>4</th>\n",
       "      <td>1994</td>\n",
       "      <td>0</td>\n",
       "      <td>1</td>\n",
       "      <td>North Carolina</td>\n",
       "      <td>9</td>\n",
       "      <td>Boston College</td>\n",
       "    </tr>\n",
       "  </tbody>\n",
       "</table>\n",
       "</div>"
      ],
      "text/plain": [
       "   season  label  seed     school_ncaa  opp_seed        opp_ncaa\n",
       "0    1994      0     5         Indiana         9  Boston College\n",
       "1    2007      0    10      Texas Tech         7  Boston College\n",
       "2    2001      0    14   Southern Utah         3  Boston College\n",
       "3    1994      0     8  Washington St.         9  Boston College\n",
       "4    1994      0     1  North Carolina         9  Boston College"
      ]
     },
     "execution_count": 2,
     "metadata": {},
     "output_type": "execute_result"
    }
   ],
   "source": [
    "train_data = pd.read_csv('ncaa/train.csv')\n",
    "eval_data = pd.read_csv('ncaa/eval.csv')\n",
    "test_data = pd.read_csv('ncaa/test.csv')\n",
    "train_data.head()"
   ]
  },
  {
   "cell_type": "code",
   "execution_count": 3,
   "metadata": {},
   "outputs": [
    {
     "data": {
      "text/html": [
       "<div>\n",
       "<style scoped>\n",
       "    .dataframe tbody tr th:only-of-type {\n",
       "        vertical-align: middle;\n",
       "    }\n",
       "\n",
       "    .dataframe tbody tr th {\n",
       "        vertical-align: top;\n",
       "    }\n",
       "\n",
       "    .dataframe thead th {\n",
       "        text-align: right;\n",
       "    }\n",
       "</style>\n",
       "<table border=\"1\" class=\"dataframe\">\n",
       "  <thead>\n",
       "    <tr style=\"text-align: right;\">\n",
       "      <th></th>\n",
       "      <th>season</th>\n",
       "      <th>label</th>\n",
       "      <th>seed</th>\n",
       "      <th>opp_seed</th>\n",
       "    </tr>\n",
       "  </thead>\n",
       "  <tbody>\n",
       "    <tr>\n",
       "      <th>count</th>\n",
       "      <td>3966.00000</td>\n",
       "      <td>3966.000000</td>\n",
       "      <td>3966.000000</td>\n",
       "      <td>3966.000000</td>\n",
       "    </tr>\n",
       "    <tr>\n",
       "      <th>mean</th>\n",
       "      <td>2000.15885</td>\n",
       "      <td>0.500000</td>\n",
       "      <td>6.795512</td>\n",
       "      <td>6.795512</td>\n",
       "    </tr>\n",
       "    <tr>\n",
       "      <th>std</th>\n",
       "      <td>8.98352</td>\n",
       "      <td>0.500063</td>\n",
       "      <td>4.608265</td>\n",
       "      <td>4.608265</td>\n",
       "    </tr>\n",
       "    <tr>\n",
       "      <th>min</th>\n",
       "      <td>1985.00000</td>\n",
       "      <td>0.000000</td>\n",
       "      <td>1.000000</td>\n",
       "      <td>1.000000</td>\n",
       "    </tr>\n",
       "    <tr>\n",
       "      <th>25%</th>\n",
       "      <td>1992.00000</td>\n",
       "      <td>0.000000</td>\n",
       "      <td>3.000000</td>\n",
       "      <td>3.000000</td>\n",
       "    </tr>\n",
       "    <tr>\n",
       "      <th>50%</th>\n",
       "      <td>2000.00000</td>\n",
       "      <td>0.500000</td>\n",
       "      <td>6.000000</td>\n",
       "      <td>6.000000</td>\n",
       "    </tr>\n",
       "    <tr>\n",
       "      <th>75%</th>\n",
       "      <td>2008.00000</td>\n",
       "      <td>1.000000</td>\n",
       "      <td>11.000000</td>\n",
       "      <td>11.000000</td>\n",
       "    </tr>\n",
       "    <tr>\n",
       "      <th>max</th>\n",
       "      <td>2015.00000</td>\n",
       "      <td>1.000000</td>\n",
       "      <td>16.000000</td>\n",
       "      <td>16.000000</td>\n",
       "    </tr>\n",
       "  </tbody>\n",
       "</table>\n",
       "</div>"
      ],
      "text/plain": [
       "           season        label         seed     opp_seed\n",
       "count  3966.00000  3966.000000  3966.000000  3966.000000\n",
       "mean   2000.15885     0.500000     6.795512     6.795512\n",
       "std       8.98352     0.500063     4.608265     4.608265\n",
       "min    1985.00000     0.000000     1.000000     1.000000\n",
       "25%    1992.00000     0.000000     3.000000     3.000000\n",
       "50%    2000.00000     0.500000     6.000000     6.000000\n",
       "75%    2008.00000     1.000000    11.000000    11.000000\n",
       "max    2015.00000     1.000000    16.000000    16.000000"
      ]
     },
     "execution_count": 3,
     "metadata": {},
     "output_type": "execute_result"
    }
   ],
   "source": [
    "train_data.describe()"
   ]
  },
  {
   "cell_type": "code",
   "execution_count": 4,
   "metadata": {
    "scrolled": true
   },
   "outputs": [
    {
     "name": "stdout",
     "output_type": "stream",
     "text": [
      "<class 'pandas.core.frame.DataFrame'>\n",
      "RangeIndex: 3966 entries, 0 to 3965\n",
      "Data columns (total 6 columns):\n",
      "season         3966 non-null int64\n",
      "label          3966 non-null int64\n",
      "seed           3966 non-null int64\n",
      "school_ncaa    3966 non-null object\n",
      "opp_seed       3966 non-null int64\n",
      "opp_ncaa       3966 non-null object\n",
      "dtypes: int64(4), object(2)\n",
      "memory usage: 186.0+ KB\n"
     ]
    }
   ],
   "source": [
    "train_data.info()"
   ]
  },
  {
   "cell_type": "markdown",
   "metadata": {},
   "source": [
    "Set up feature columns:"
   ]
  },
  {
   "cell_type": "code",
   "execution_count": 5,
   "metadata": {},
   "outputs": [],
   "source": [
    "seed = tf.feature_column.numeric_column(key='seed')"
   ]
  },
  {
   "cell_type": "code",
   "execution_count": 6,
   "metadata": {},
   "outputs": [],
   "source": [
    "opp_seed = tf.feature_column.numeric_column(key='opp_seed')"
   ]
  },
  {
   "cell_type": "code",
   "execution_count": 7,
   "metadata": {},
   "outputs": [],
   "source": [
    "vocabulary = pd.read_csv('school_vocabulary.csv',header=None)\n",
    "#vocabulary.head()"
   ]
  },
  {
   "cell_type": "code",
   "execution_count": 8,
   "metadata": {},
   "outputs": [],
   "source": [
    "vocabulary_list = [x for x in vocabulary[1]]\n",
    "# vocabulary_list"
   ]
  },
  {
   "cell_type": "code",
   "execution_count": 9,
   "metadata": {},
   "outputs": [],
   "source": [
    "school_ncaa = tf.feature_column.categorical_column_with_vocabulary_list(\n",
    "    key='school_ncaa',\n",
    "    vocabulary_list=vocabulary_list,\n",
    "    default_value=0)"
   ]
  },
  {
   "cell_type": "code",
   "execution_count": 10,
   "metadata": {},
   "outputs": [],
   "source": [
    "opp_ncaa = tf.feature_column.categorical_column_with_vocabulary_list(\n",
    "    key='opp_ncaa',\n",
    "    vocabulary_list=vocabulary_list,\n",
    "    default_value=0)"
   ]
  },
  {
   "cell_type": "code",
   "execution_count": 11,
   "metadata": {},
   "outputs": [],
   "source": [
    "feature_columns = [seed, school_ncaa, opp_seed,  opp_ncaa]\n",
    "#feature_columns"
   ]
  },
  {
   "cell_type": "markdown",
   "metadata": {},
   "source": [
    "Set up features and labels:"
   ]
  },
  {
   "cell_type": "code",
   "execution_count": 12,
   "metadata": {},
   "outputs": [],
   "source": [
    "feature_names = ['seed', 'school_ncaa', 'opp_seed','opp_ncaa']\n",
    "label_name = 'label'"
   ]
  },
  {
   "cell_type": "code",
   "execution_count": 13,
   "metadata": {},
   "outputs": [],
   "source": [
    "train_features = train_data[feature_names]\n",
    "train_labels = train_data[label_name]"
   ]
  },
  {
   "cell_type": "code",
   "execution_count": 14,
   "metadata": {},
   "outputs": [],
   "source": [
    "eval_features = eval_data[feature_names]\n",
    "eval_labels = eval_data[label_name]"
   ]
  },
  {
   "cell_type": "code",
   "execution_count": 15,
   "metadata": {},
   "outputs": [],
   "source": [
    "test_features = test_data[feature_names]\n",
    "test_labels = test_data[label_name]"
   ]
  },
  {
   "cell_type": "markdown",
   "metadata": {},
   "source": [
    "Input function:"
   ]
  },
  {
   "cell_type": "code",
   "execution_count": 16,
   "metadata": {},
   "outputs": [
    {
     "data": {
      "text/html": [
       "<div>\n",
       "<style scoped>\n",
       "    .dataframe tbody tr th:only-of-type {\n",
       "        vertical-align: middle;\n",
       "    }\n",
       "\n",
       "    .dataframe tbody tr th {\n",
       "        vertical-align: top;\n",
       "    }\n",
       "\n",
       "    .dataframe thead th {\n",
       "        text-align: right;\n",
       "    }\n",
       "</style>\n",
       "<table border=\"1\" class=\"dataframe\">\n",
       "  <thead>\n",
       "    <tr style=\"text-align: right;\">\n",
       "      <th></th>\n",
       "      <th>seed</th>\n",
       "      <th>school_ncaa</th>\n",
       "      <th>opp_seed</th>\n",
       "      <th>opp_ncaa</th>\n",
       "    </tr>\n",
       "  </thead>\n",
       "  <tbody>\n",
       "    <tr>\n",
       "      <th>0</th>\n",
       "      <td>5</td>\n",
       "      <td>Indiana</td>\n",
       "      <td>9</td>\n",
       "      <td>Boston College</td>\n",
       "    </tr>\n",
       "    <tr>\n",
       "      <th>1</th>\n",
       "      <td>10</td>\n",
       "      <td>Texas Tech</td>\n",
       "      <td>7</td>\n",
       "      <td>Boston College</td>\n",
       "    </tr>\n",
       "    <tr>\n",
       "      <th>2</th>\n",
       "      <td>14</td>\n",
       "      <td>Southern Utah</td>\n",
       "      <td>3</td>\n",
       "      <td>Boston College</td>\n",
       "    </tr>\n",
       "    <tr>\n",
       "      <th>3</th>\n",
       "      <td>8</td>\n",
       "      <td>Washington St.</td>\n",
       "      <td>9</td>\n",
       "      <td>Boston College</td>\n",
       "    </tr>\n",
       "    <tr>\n",
       "      <th>4</th>\n",
       "      <td>1</td>\n",
       "      <td>North Carolina</td>\n",
       "      <td>9</td>\n",
       "      <td>Boston College</td>\n",
       "    </tr>\n",
       "  </tbody>\n",
       "</table>\n",
       "</div>"
      ],
      "text/plain": [
       "   seed     school_ncaa  opp_seed        opp_ncaa\n",
       "0     5         Indiana         9  Boston College\n",
       "1    10      Texas Tech         7  Boston College\n",
       "2    14   Southern Utah         3  Boston College\n",
       "3     8  Washington St.         9  Boston College\n",
       "4     1  North Carolina         9  Boston College"
      ]
     },
     "execution_count": 16,
     "metadata": {},
     "output_type": "execute_result"
    }
   ],
   "source": [
    "train_features.head()"
   ]
  },
  {
   "cell_type": "code",
   "execution_count": 17,
   "metadata": {},
   "outputs": [
    {
     "data": {
      "text/plain": [
       "array(['Indiana', 'Texas Tech', 'Southern Utah', ..., 'Wichita St.',\n",
       "       'Wichita St.', 'Wichita St.'], dtype=object)"
      ]
     },
     "execution_count": 17,
     "metadata": {},
     "output_type": "execute_result"
    }
   ],
   "source": [
    "train_features['school_ncaa'].values"
   ]
  },
  {
   "cell_type": "code",
   "execution_count": 18,
   "metadata": {},
   "outputs": [
    {
     "data": {
      "text/plain": [
       "array([0, 0, 0, ..., 1, 1, 1])"
      ]
     },
     "execution_count": 18,
     "metadata": {},
     "output_type": "execute_result"
    }
   ],
   "source": [
    "train_labels.values"
   ]
  },
  {
   "cell_type": "code",
   "execution_count": 19,
   "metadata": {},
   "outputs": [],
   "source": [
    "# def train_input():\n",
    "#     input_tensor = {}\n",
    "#     for name in feature_names:\n",
    "#         input_tensor[name] = train_features[name]\n",
    "#     #print(input_tensor)\n",
    "#     _dataset = tf.data.Dataset.from_tensor_slices((input_tensor,train_labels))\n",
    "#     dataset = _dataset.batch(32)\n",
    "#     iterator = dataset.make_one_shot_iterator()\n",
    "#     features, labels = iterator.get_next() #breaking up output into little batches/shards... like using a generator\n",
    "#     return features, labels\n",
    "def train_input():\n",
    "    _dataset = tf.data.Dataset.from_tensor_slices(({'seed':train_features['seed'].values, 'school_ncaa':train_features['school_ncaa'].values, 'opp_seed':train_features['opp_seed'].values, 'opp_ncaa':train_features['opp_ncaa'].values}, train_labels.values))\n",
    "    dataset = _dataset.batch(32)\n",
    "    iterator = dataset.make_one_shot_iterator()\n",
    "    features, labels = iterator.get_next()\n",
    "    return features, labels"
   ]
  },
  {
   "cell_type": "code",
   "execution_count": 20,
   "metadata": {},
   "outputs": [],
   "source": [
    "# def eval_input():\n",
    "#     input_tensor = {}\n",
    "#     for name in feature_names:\n",
    "#         input_tensor[name] = eval_features[name]\n",
    "#     _dataset = tf.data.Dataset.from_tensor_slices((input_tensor,eval_labels))\n",
    "#     dataset = _dataset.batch(32)\n",
    "#     iterator = dataset.make_one_shot_iterator()\n",
    "#     features, labels = iterator.get_next() #breaking up output into little batches/shards... like using a generator\n",
    "#     return features, labels\n",
    "def eval_input():\n",
    "    _dataset = tf.data.Dataset.from_tensor_slices(({'seed':eval_features['seed'].values, 'school_ncaa':eval_features['school_ncaa'].values, 'opp_seed':eval_features['opp_seed'].values, 'opp_ncaa':eval_features['opp_ncaa'].values}, eval_labels.values))\n",
    "    dataset = _dataset.batch(32)\n",
    "    iterator = dataset.make_one_shot_iterator()\n",
    "    features, labels = iterator.get_next()\n",
    "    return features, labels"
   ]
  },
  {
   "cell_type": "code",
   "execution_count": 21,
   "metadata": {},
   "outputs": [],
   "source": [
    "# def test_input():\n",
    "#     input_tensor = {}\n",
    "#     for name in feature_names:\n",
    "#         input_tensor[name] = test_features[name]\n",
    "#     _dataset = tf.data.Dataset.from_tensor_slices((input_tensor,test_labels))\n",
    "#     dataset = _dataset.batch(32)\n",
    "#     iterator = dataset.make_one_shot_iterator()\n",
    "#     features, labels = iterator.get_next() #breaking up output into little batches/shards... like using a generator\n",
    "#     return features, labels\n",
    "def test_input():\n",
    "    _dataset = tf.data.Dataset.from_tensor_slices(({'seed':test_features['seed'].values, 'school_ncaa':test_features['school_ncaa'].values, 'opp_seed':test_features['opp_seed'].values, 'opp_ncaa':test_features['opp_ncaa'].values}, test_labels.values))\n",
    "    dataset = _dataset.batch(32)\n",
    "    iterator = dataset.make_one_shot_iterator()\n",
    "    features, labels = iterator.get_next()\n",
    "    return features, labels"
   ]
  },
  {
   "cell_type": "markdown",
   "metadata": {},
   "source": [
    "Build estimator:"
   ]
  },
  {
   "cell_type": "code",
   "execution_count": 22,
   "metadata": {},
   "outputs": [
    {
     "name": "stdout",
     "output_type": "stream",
     "text": [
      "INFO:tensorflow:Using default config.\n",
      "INFO:tensorflow:Using config: {'_model_dir': 'output', '_tf_random_seed': None, '_save_summary_steps': 100, '_save_checkpoints_steps': None, '_save_checkpoints_secs': 600, '_session_config': allow_soft_placement: true\n",
      "graph_options {\n",
      "  rewrite_options {\n",
      "    meta_optimizer_iterations: ONE\n",
      "  }\n",
      "}\n",
      ", '_keep_checkpoint_max': 5, '_keep_checkpoint_every_n_hours': 10000, '_log_step_count_steps': 100, '_train_distribute': None, '_device_fn': None, '_protocol': None, '_eval_distribute': None, '_experimental_distribute': None, '_service': None, '_cluster_spec': <tensorflow.python.training.server_lib.ClusterSpec object at 0x7f2e888e4b38>, '_task_type': 'worker', '_task_id': 0, '_global_id_in_cluster': 0, '_master': '', '_evaluation_master': '', '_is_chief': True, '_num_ps_replicas': 0, '_num_worker_replicas': 1}\n"
     ]
    }
   ],
   "source": [
    "estimator = tf.estimator.LinearClassifier(\n",
    "    feature_columns=feature_columns,\n",
    "    optimizer=tf.train.AdamOptimizer(learning_rate=0.00001),\n",
    "    model_dir='output'\n",
    ")"
   ]
  },
  {
   "cell_type": "markdown",
   "metadata": {},
   "source": [
    "training = estimator.train(input_fn=train_input,\n",
    "                           steps=12000)\n",
    "print(training)"
   ]
  },
  {
   "cell_type": "markdown",
   "metadata": {},
   "source": [
    "evaluation = estimator.evaluate(input_fn=eval_input)\n",
    "print(evaluation)"
   ]
  },
  {
   "cell_type": "markdown",
   "metadata": {},
   "source": [
    "prediction = estimator.predict(input_fn=test_input)\n",
    "print(prediction)"
   ]
  },
  {
   "cell_type": "markdown",
   "metadata": {},
   "source": [
    "p = [item['probabilities'][0] for item in prediction]\n"
   ]
  },
  {
   "cell_type": "markdown",
   "metadata": {},
   "source": [
    "print(pd.DataFrame({'proba':p}))"
   ]
  },
  {
   "cell_type": "code",
   "execution_count": 23,
   "metadata": {},
   "outputs": [],
   "source": [
    "train_spec = tf.estimator.TrainSpec(input_fn=train_input,max_steps=12000)"
   ]
  },
  {
   "cell_type": "code",
   "execution_count": 24,
   "metadata": {},
   "outputs": [],
   "source": [
    "def serving_input_fn():\n",
    "    feature_placeholders = {\n",
    "        'seed': tf.placeholder(tf.int64),\n",
    "        'school_ncaa':tf.placeholder(tf.string),\n",
    "        'opp_seed': tf.placeholder(tf.int64),\n",
    "        'opp_ncaa':tf.placeholder(tf.string)\n",
    "    }\n",
    "    features = {key:tf.expand_dims(tensor,-1) for key, tensor in feature_placeholders.items()}\n",
    "    return tf.estimator.export.ServingInputReceiver(features,feature_placeholders)"
   ]
  },
  {
   "cell_type": "code",
   "execution_count": 25,
   "metadata": {},
   "outputs": [],
   "source": [
    "exporter = tf.estimator.LatestExporter(name='Exporter',serving_input_receiver_fn=serving_input_fn)"
   ]
  },
  {
   "cell_type": "code",
   "execution_count": 26,
   "metadata": {},
   "outputs": [],
   "source": [
    "eval_spec = tf.estimator.EvalSpec(input_fn=eval_input,\n",
    "                                  steps=None,\n",
    "                                  start_delay_secs=1,\n",
    "                                  exporters=exporter,\n",
    "                                 throttle_secs=10)"
   ]
  },
  {
   "cell_type": "code",
   "execution_count": 27,
   "metadata": {},
   "outputs": [
    {
     "name": "stdout",
     "output_type": "stream",
     "text": [
      "INFO:tensorflow:Not using Distribute Coordinator.\n",
      "INFO:tensorflow:Running training and evaluation locally (non-distributed).\n",
      "INFO:tensorflow:Start train and evaluate loop. The evaluate will happen after every checkpoint. Checkpoint frequency is determined based on RunConfig arguments: save_checkpoints_steps None or save_checkpoints_secs 600.\n",
      "INFO:tensorflow:Calling model_fn.\n",
      "INFO:tensorflow:Done calling model_fn.\n",
      "INFO:tensorflow:Create CheckpointSaverHook.\n",
      "INFO:tensorflow:Graph was finalized.\n",
      "INFO:tensorflow:Running local_init_op.\n",
      "INFO:tensorflow:Done running local_init_op.\n",
      "INFO:tensorflow:Saving checkpoints for 0 into output/model.ckpt.\n",
      "INFO:tensorflow:loss = 22.18071, step = 1\n",
      "INFO:tensorflow:global_step/sec: 428.518\n",
      "INFO:tensorflow:loss = 22.259356, step = 101 (0.234 sec)\n",
      "INFO:tensorflow:Saving checkpoints for 124 into output/model.ckpt.\n",
      "INFO:tensorflow:Calling model_fn.\n",
      "WARNING:tensorflow:Trapezoidal rule is known to produce incorrect PR-AUCs; please switch to \"careful_interpolation\" instead.\n",
      "WARNING:tensorflow:Trapezoidal rule is known to produce incorrect PR-AUCs; please switch to \"careful_interpolation\" instead.\n",
      "INFO:tensorflow:Done calling model_fn.\n",
      "INFO:tensorflow:Starting evaluation at 2019-04-16-11:05:04\n",
      "INFO:tensorflow:Graph was finalized.\n",
      "INFO:tensorflow:Restoring parameters from output/model.ckpt-124\n",
      "INFO:tensorflow:Running local_init_op.\n",
      "INFO:tensorflow:Done running local_init_op.\n",
      "INFO:tensorflow:Finished evaluation at 2019-04-16-11:05:04\n",
      "INFO:tensorflow:Saving dict for global step 124: accuracy = 0.5, accuracy_baseline = 0.5, auc = 0.5, auc_precision_recall = 0.75, average_loss = 0.69282275, global_step = 124, label/mean = 0.5, loss = 18.56765, precision = 0.0, prediction/mean = 0.49928802, recall = 0.0\n",
      "INFO:tensorflow:Saving 'checkpoint_path' summary for global step 124: output/model.ckpt-124\n",
      "INFO:tensorflow:Calling model_fn.\n",
      "INFO:tensorflow:Done calling model_fn.\n",
      "INFO:tensorflow:Signatures INCLUDED in export for Classify: None\n",
      "INFO:tensorflow:Signatures INCLUDED in export for Regress: None\n",
      "INFO:tensorflow:Signatures INCLUDED in export for Predict: ['predict']\n",
      "INFO:tensorflow:Signatures INCLUDED in export for Train: None\n",
      "INFO:tensorflow:Signatures INCLUDED in export for Eval: None\n",
      "INFO:tensorflow:Signatures EXCLUDED from export because they cannot be be served via TensorFlow Serving APIs:\n",
      "INFO:tensorflow:'serving_default' : Classification input must be a single string Tensor; got {'seed': <tf.Tensor 'Placeholder:0' shape=<unknown> dtype=int64>, 'school_ncaa': <tf.Tensor 'Placeholder_1:0' shape=<unknown> dtype=string>, 'opp_seed': <tf.Tensor 'Placeholder_2:0' shape=<unknown> dtype=int64>, 'opp_ncaa': <tf.Tensor 'Placeholder_3:0' shape=<unknown> dtype=string>}\n",
      "INFO:tensorflow:'classification' : Classification input must be a single string Tensor; got {'seed': <tf.Tensor 'Placeholder:0' shape=<unknown> dtype=int64>, 'school_ncaa': <tf.Tensor 'Placeholder_1:0' shape=<unknown> dtype=string>, 'opp_seed': <tf.Tensor 'Placeholder_2:0' shape=<unknown> dtype=int64>, 'opp_ncaa': <tf.Tensor 'Placeholder_3:0' shape=<unknown> dtype=string>}\n",
      "INFO:tensorflow:'regression' : Regression input must be a single string Tensor; got {'seed': <tf.Tensor 'Placeholder:0' shape=<unknown> dtype=int64>, 'school_ncaa': <tf.Tensor 'Placeholder_1:0' shape=<unknown> dtype=string>, 'opp_seed': <tf.Tensor 'Placeholder_2:0' shape=<unknown> dtype=int64>, 'opp_ncaa': <tf.Tensor 'Placeholder_3:0' shape=<unknown> dtype=string>}\n",
      "WARNING:tensorflow:Export includes no default signature!\n",
      "INFO:tensorflow:Restoring parameters from output/model.ckpt-124\n",
      "WARNING:tensorflow:From /home/kayo-mest/.local/lib/python3.6/site-packages/tensorflow/python/estimator/estimator.py:1044: calling SavedModelBuilder.add_meta_graph_and_variables (from tensorflow.python.saved_model.builder_impl) with legacy_init_op is deprecated and will be removed in a future version.\n",
      "Instructions for updating:\n",
      "Pass your op to the equivalent parameter main_op instead.\n",
      "INFO:tensorflow:Assets added to graph.\n",
      "INFO:tensorflow:No assets to write.\n",
      "INFO:tensorflow:SavedModel written to: output/export/Exporter/temp-b'1555412704'/saved_model.pb\n",
      "INFO:tensorflow:Loss for final step: 20.828806.\n"
     ]
    },
    {
     "data": {
      "text/plain": [
       "({'accuracy': 0.5,\n",
       "  'accuracy_baseline': 0.5,\n",
       "  'auc': 0.5,\n",
       "  'auc_precision_recall': 0.75,\n",
       "  'average_loss': 0.69282275,\n",
       "  'label/mean': 0.5,\n",
       "  'loss': 18.56765,\n",
       "  'precision': 0.0,\n",
       "  'prediction/mean': 0.49928802,\n",
       "  'recall': 0.0,\n",
       "  'global_step': 124},\n",
       " [b'output/export/Exporter/1555412704'])"
      ]
     },
     "execution_count": 27,
     "metadata": {},
     "output_type": "execute_result"
    }
   ],
   "source": [
    "tf.estimator.train_and_evaluate(estimator=estimator,train_spec=train_spec,eval_spec=eval_spec)"
   ]
  }
 ],
 "metadata": {
  "kernelspec": {
   "display_name": "Python 3",
   "language": "python",
   "name": "python3"
  },
  "language_info": {
   "codemirror_mode": {
    "name": "ipython",
    "version": 3
   },
   "file_extension": ".py",
   "mimetype": "text/x-python",
   "name": "python",
   "nbconvert_exporter": "python",
   "pygments_lexer": "ipython3",
   "version": "3.6.8"
  }
 },
 "nbformat": 4,
 "nbformat_minor": 2
}
